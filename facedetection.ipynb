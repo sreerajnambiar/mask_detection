{
 "cells": [
  {
   "cell_type": "markdown",
   "metadata": {},
   "source": [
    "## Here face is identified from a live stream and the face is removed from the frames and predicted with the cnn model build"
   ]
  },
  {
   "cell_type": "code",
   "execution_count": 3,
   "metadata": {},
   "outputs": [],
   "source": [
    "import tensorflow as tf\n",
    "import cv2\n",
    "import matplotlib.pyplot as plt\n",
    "import keras\n",
    "import numpy as np\n",
    "model = keras.models.load_model(\"my_h5_model.h5\")\n",
    "face_cascade = cv2.CascadeClassifier(r\"haarcascade_frontalface_default.xml\")"
   ]
  },
  {
   "cell_type": "code",
   "execution_count": 4,
   "metadata": {},
   "outputs": [],
   "source": [
    "import cv2\n",
    "import numpy as np \n",
    "import matplotlib.pyplot as plt\n",
    "\n",
    "imz=40\n",
    "\n",
    "def face_detection(img):\n",
    "    font_style  = cv2.FONT_ITALIC\n",
    "    face_obj = img.copy()\n",
    "    #face_img = cv2.cvtColor(img,cv2.COLOR_BGR2GRAY)\n",
    "    face_rects = face_cascade.detectMultiScale(img, 1.3,5)\n",
    "    for ( x, y , w, h) in face_rects:\n",
    "        face=face_obj[y-imz:y+w+imz,x-imz:x+w+imz]\n",
    "        face = cv2.resize(face , (100,100))\n",
    "        face=np.array(face)\n",
    "        face = face.reshape(-1,100,100,3)\n",
    "        face=face/255.0\n",
    "        pred = model.predict(face)\n",
    "        pred=np.argmax(pred,axis=1)[0]\n",
    "        if pred ==1:\n",
    "            cv2.rectangle(face_obj ,(x, y) , (x+w , y+h) , (0, 0, 255) , 5)\n",
    "            cv2.putText(face_obj , \"No Mask Detected \" , org=(x,y-5) , fontFace=font_style, fontScale=1 , color = (0, 0, 255)  , thickness=3 )\n",
    "        else:\n",
    "            cv2.rectangle(face_obj ,(x, y) , (x+w , y+h) , (0, 255, 0) , 5)\n",
    "            cv2.putText(face_obj , \"Mask Detected \" , org=(x,y-5) , fontFace=font_style, fontScale=1 , color =(0, 255, 0) , thickness=3 )\n",
    "        return face_obj \n",
    "    else:\n",
    "        font_style  = cv2.FONT_ITALIC\n",
    "        cv2.putText(face_obj , \"No Face Detected \" , org=(30,60) , fontFace=font_style, fontScale=1 , color =(225 , 0 ,0) , thickness=3 )\n",
    "        return face_obj\n",
    "\n",
    "\n",
    "\n",
    "cap = cv2.VideoCapture(0)\n",
    "\n",
    "while True:\n",
    "    ret , frame = cap.read()\n",
    "    try:\n",
    "        frame1 = face_detection(frame)        \n",
    "        cv2.imshow(\"frame\" ,frame1)\n",
    "    except:\n",
    "        cv2.imshow(\"frame\" ,frame)\n",
    "        \n",
    "    if cv2.waitKey(1) &  0xff==ord('q'):\n",
    "        break\n",
    "        \n",
    "\n",
    "cap.release()\n",
    "cv2.destroyAllWindows()\n"
   ]
  },
  {
   "cell_type": "markdown",
   "metadata": {},
   "source": [
    "![Without Mask](withoutmask.png )  \n",
    "![With Mask](withmask.png )\n",
    "\n",
    "![No Face](noface.png )"
   ]
  }
 ],
 "metadata": {
  "kernelspec": {
   "display_name": "Python 3",
   "language": "python",
   "name": "python3"
  },
  "language_info": {
   "codemirror_mode": {
    "name": "ipython",
    "version": 3
   },
   "file_extension": ".py",
   "mimetype": "text/x-python",
   "name": "python",
   "nbconvert_exporter": "python",
   "pygments_lexer": "ipython3",
   "version": "3.8.5"
  },
  "latex_envs": {
   "LaTeX_envs_menu_present": true,
   "autoclose": false,
   "autocomplete": true,
   "bibliofile": "biblio.bib",
   "cite_by": "apalike",
   "current_citInitial": 1,
   "eqLabelWithNumbers": true,
   "eqNumInitial": 1,
   "hotkeys": {
    "equation": "Ctrl-E",
    "itemize": "Ctrl-I"
   },
   "labels_anchors": false,
   "latex_user_defs": false,
   "report_style_numbering": false,
   "user_envs_cfg": false
  },
  "varInspector": {
   "cols": {
    "lenName": 16,
    "lenType": 16,
    "lenVar": 40
   },
   "kernels_config": {
    "python": {
     "delete_cmd_postfix": "",
     "delete_cmd_prefix": "del ",
     "library": "var_list.py",
     "varRefreshCmd": "print(var_dic_list())"
    },
    "r": {
     "delete_cmd_postfix": ") ",
     "delete_cmd_prefix": "rm(",
     "library": "var_list.r",
     "varRefreshCmd": "cat(var_dic_list()) "
    }
   },
   "types_to_exclude": [
    "module",
    "function",
    "builtin_function_or_method",
    "instance",
    "_Feature"
   ],
   "window_display": false
  }
 },
 "nbformat": 4,
 "nbformat_minor": 4
}
