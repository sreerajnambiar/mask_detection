{
 "cells": [
  {
   "cell_type": "markdown",
   "metadata": {},
   "source": [
    "## Building CNN to classify face with mask and face with no Mask "
   ]
  },
  {
   "cell_type": "code",
   "execution_count": 2,
   "metadata": {},
   "outputs": [],
   "source": [
    "import os \n",
    "import tensorflow as tf\n",
    "import cv2\n",
    "import numpy as np \n",
    "import pandas as pd\n",
    "import matplotlib.pyplot as plt\n",
    "from keras.utils import to_categorical"
   ]
  },
  {
   "cell_type": "code",
   "execution_count": 3,
   "metadata": {},
   "outputs": [
    {
     "data": {
      "text/plain": [
       "['with_mask', 'without_mask']"
      ]
     },
     "execution_count": 3,
     "metadata": {},
     "output_type": "execute_result"
    }
   ],
   "source": [
    "base_dir  = os.path.join(os.getcwd(),'dataset/')\n",
    "cate = os.listdir(base_dir)\n",
    "cate"
   ]
  },
  {
   "cell_type": "markdown",
   "metadata": {},
   "source": [
    "### import the Image Dataset"
   ]
  },
  {
   "cell_type": "markdown",
   "metadata": {},
   "source": [
    "#### Catagories\n",
    "0 - with mask\n",
    "1 - without mask\n"
   ]
  },
  {
   "cell_type": "code",
   "execution_count": 4,
   "metadata": {},
   "outputs": [],
   "source": [
    "image_size =100\n",
    "data_array = []\n",
    "for i in cate:\n",
    "    path_ = os.path.join(base_dir , i)\n",
    "    label = cate.index(i)\n",
    "    for img_name in os.listdir(path_):\n",
    "        img_path = os.path.join(path_ , img_name)\n",
    "        img = cv2.imread(img_path)\n",
    "        img = cv2.resize(img , (image_size , image_size))\n",
    "        data_array.append([img , label])\n"
   ]
  },
  {
   "cell_type": "markdown",
   "metadata": {},
   "source": [
    "### Shuffling , splitting and Normalising  the image data"
   ]
  },
  {
   "cell_type": "code",
   "execution_count": 5,
   "metadata": {},
   "outputs": [],
   "source": [
    "np.random.shuffle(data_array)"
   ]
  },
  {
   "cell_type": "code",
   "execution_count": 6,
   "metadata": {},
   "outputs": [],
   "source": [
    "x=[]\n",
    "y=[]\n",
    "for x_val , y_val in data_array:\n",
    "    x.append(x_val)\n",
    "    y.append(y_val)\n",
    "x=np.array(x)\n",
    "y=np.array(y)\n",
    "y_ = np.array(y)\n",
    "\n",
    "y=to_categorical(y)"
   ]
  },
  {
   "cell_type": "code",
   "execution_count": 7,
   "metadata": {},
   "outputs": [
    {
     "data": {
      "text/plain": [
       "(7553, 100, 100, 3)"
      ]
     },
     "execution_count": 7,
     "metadata": {},
     "output_type": "execute_result"
    }
   ],
   "source": [
    "x.shape"
   ]
  },
  {
   "cell_type": "code",
   "execution_count": 8,
   "metadata": {},
   "outputs": [],
   "source": [
    "x = x/255.0"
   ]
  },
  {
   "cell_type": "code",
   "execution_count": 9,
   "metadata": {},
   "outputs": [],
   "source": [
    "from sklearn.model_selection import train_test_split\n",
    "train_x , test_x , train_y , test_y =train_test_split(x, y , test_size=0.2)\n"
   ]
  },
  {
   "cell_type": "markdown",
   "metadata": {},
   "source": [
    "### Building Model"
   ]
  },
  {
   "cell_type": "code",
   "execution_count": 10,
   "metadata": {},
   "outputs": [],
   "source": [
    "from keras.models import Sequential\n",
    "from keras.layers import Dense, Dropout , Flatten , Conv2D , MaxPool2D\n"
   ]
  },
  {
   "cell_type": "code",
   "execution_count": 11,
   "metadata": {},
   "outputs": [],
   "source": [
    "model = Sequential()\n",
    "model.add(Conv2D(filters=100 , kernel_size=(3,3) , activation='relu' , padding='same' ))\n",
    "model.add(MaxPool2D(pool_size=(2,2)))\n",
    "model.add(Conv2D(filters=200, kernel_size=(3,3) , activation='relu' ))\n",
    "model.add(MaxPool2D(pool_size=(2,2)))\n",
    "model.add(Conv2D(filters=300, kernel_size=(3,3) , activation='relu' ))\n",
    "model.add(MaxPool2D(pool_size=(2,2)))\n",
    "model.add(Flatten())\n",
    "\n",
    "\n",
    "model.add(Dense(64 , activation='relu'))\n",
    "\n",
    "model.add(Dropout(0.4))\n",
    "model.add(Dense(2 , activation='softmax'))"
   ]
  },
  {
   "cell_type": "code",
   "execution_count": 12,
   "metadata": {},
   "outputs": [],
   "source": [
    "model.compile(optimizer='adam' , loss=['categorical_crossentropy'] , metrics=['accuracy'])"
   ]
  },
  {
   "cell_type": "code",
   "execution_count": 13,
   "metadata": {
    "scrolled": true
   },
   "outputs": [
    {
     "name": "stdout",
     "output_type": "stream",
     "text": [
      "Epoch 1/10\n",
      "152/152 [==============================] - 461s 3s/step - loss: 0.5305 - accuracy: 0.7352 - val_loss: 0.2652 - val_accuracy: 0.8842\n",
      "Epoch 2/10\n",
      "152/152 [==============================] - 488s 3s/step - loss: 0.2798 - accuracy: 0.8851 - val_loss: 0.2480 - val_accuracy: 0.8958\n",
      "Epoch 3/10\n",
      "152/152 [==============================] - 482s 3s/step - loss: 0.2293 - accuracy: 0.9055 - val_loss: 0.1634 - val_accuracy: 0.9297\n",
      "Epoch 4/10\n",
      "152/152 [==============================] - 485s 3s/step - loss: 0.1815 - accuracy: 0.9238 - val_loss: 0.1687 - val_accuracy: 0.9371\n",
      "Epoch 5/10\n",
      "152/152 [==============================] - 309s 2s/step - loss: 0.1584 - accuracy: 0.9468 - val_loss: 0.1612 - val_accuracy: 0.9355\n",
      "Epoch 6/10\n",
      "152/152 [==============================] - 291s 2s/step - loss: 0.1306 - accuracy: 0.9510 - val_loss: 0.1569 - val_accuracy: 0.9404\n",
      "Epoch 7/10\n",
      "152/152 [==============================] - 288s 2s/step - loss: 0.1237 - accuracy: 0.9557 - val_loss: 0.1258 - val_accuracy: 0.9537\n",
      "Epoch 8/10\n",
      "152/152 [==============================] - 353s 2s/step - loss: 0.0982 - accuracy: 0.9671 - val_loss: 0.1584 - val_accuracy: 0.9504\n",
      "Epoch 9/10\n",
      "152/152 [==============================] - 396s 3s/step - loss: 0.1262 - accuracy: 0.9609 - val_loss: 0.1654 - val_accuracy: 0.9322\n",
      "Epoch 10/10\n",
      "152/152 [==============================] - 615s 2s/step - loss: 0.0645 - accuracy: 0.9805 - val_loss: 0.1150 - val_accuracy: 0.9603\n"
     ]
    }
   ],
   "source": [
    "history= model.fit(train_x , train_y , epochs=10 , validation_split=0.2 )"
   ]
  },
  {
   "cell_type": "code",
   "execution_count": 56,
   "metadata": {},
   "outputs": [
    {
     "data": {
      "text/plain": [
       "<matplotlib.legend.Legend at 0x2380bb86070>"
      ]
     },
     "execution_count": 56,
     "metadata": {},
     "output_type": "execute_result"
    },
    {
     "data": {
      "image/png": "[encoded data removed]",
      "text/plain": [
       "<Figure size 432x288 with 1 Axes>"
      ]
     },
     "metadata": {
      "needs_background": "light"
     },
     "output_type": "display_data"
    }
   ],
   "source": [
    "df = pd.DataFrame(history.history)\n",
    "plt.plot(df.loss, color = \"b\" , marker =\"*\" , label = \"Loss\")\n",
    "plt.plot(df.val_loss , color = \"r\" , marker =\"*\"  , label =\"Validation-Loss\")\n",
    "plt.xlabel(\"epooches\")\n",
    "plt.ylabel('loss')\n",
    "plt.legend()"
   ]
  },
  {
   "cell_type": "code",
   "execution_count": 35,
   "metadata": {},
   "outputs": [],
   "source": [
    "\n",
    "pred = model.predict(test_x)\n"
   ]
  },
  {
   "cell_type": "code",
   "execution_count": 16,
   "metadata": {},
   "outputs": [],
   "source": [
    "from sklearn.metrics import confusion_matrix"
   ]
  },
  {
   "cell_type": "code",
   "execution_count": 17,
   "metadata": {},
   "outputs": [
    {
     "name": "stdout",
     "output_type": "stream",
     "text": [
      "48/48 [==============================] - 29s 594ms/step - loss: 0.1599 - accuracy: 0.9517\n"
     ]
    },
    {
     "data": {
      "text/plain": [
       "[0.15988516807556152, 0.9516876339912415]"
      ]
     },
     "execution_count": 17,
     "metadata": {},
     "output_type": "execute_result"
    }
   ],
   "source": [
    "model.evaluate(test_x , test_y)"
   ]
  },
  {
   "cell_type": "code",
   "execution_count": 41,
   "metadata": {},
   "outputs": [
    {
     "data": {
      "text/plain": [
       "array([[708,  46],\n",
       "       [ 27, 730]], dtype=int64)"
      ]
     },
     "execution_count": 41,
     "metadata": {},
     "output_type": "execute_result"
    }
   ],
   "source": [
    "confusion_matrix(np.argmax(pred,axis=1) , np.argmax(test_y , axis=1))"
   ]
  },
  {
   "cell_type": "code",
   "execution_count": 38,
   "metadata": {},
   "outputs": [],
   "source": [
    "test_y_ = np.argmax(test_y , axis=1)[0]\n",
    " "
   ]
  },
  {
   "cell_type": "markdown",
   "metadata": {},
   "source": [
    "### Using Transfer Learing"
   ]
  },
  {
   "cell_type": "code",
   "execution_count": 60,
   "metadata": {},
   "outputs": [],
   "source": [
    "pretrained_model = tf.keras.applications.DenseNet121(input_shape=(100,100,3),include_top=False,weights='imagenet',pooling='avg')\n",
    "pretrained_model.trainable = False\n",
    "\n",
    "\n",
    "inputs_densenet  = pretrained_model.input\n",
    "fc_l  = tf.keras.layers.Dense(128, activation='relu')(pretrained_model.output)\n",
    "op_l = tf.keras.layers.Dense(2, activation='softmax')(fc_l)\n",
    "model = tf.keras.Model(inputs=inputs_densenet , outputs=op_l)\n",
    "model.compile(loss = 'categorical_crossentropy', optimizer='adam', metrics=['accuracy'])"
   ]
  },
  {
   "cell_type": "code",
   "execution_count": 61,
   "metadata": {},
   "outputs": [
    {
     "name": "stdout",
     "output_type": "stream",
     "text": [
      "Epoch 1/10\n",
      "100/100 [==============================] - 192s 2s/step - loss: 0.2804 - accuracy: 0.9035 - val_loss: 0.0982 - val_accuracy: 0.9595\n",
      "Epoch 2/10\n",
      "100/100 [==============================] - 170s 2s/step - loss: 0.0599 - accuracy: 0.9817 - val_loss: 0.0787 - val_accuracy: 0.9636\n",
      "Epoch 3/10\n",
      "100/100 [==============================] - 718s 7s/step - loss: 0.0348 - accuracy: 0.9888 - val_loss: 0.0711 - val_accuracy: 0.9702\n",
      "Epoch 4/10\n",
      "100/100 [==============================] - 118s 1s/step - loss: 0.0269 - accuracy: 0.9906 - val_loss: 0.0852 - val_accuracy: 0.9677\n",
      "Epoch 5/10\n",
      "100/100 [==============================] - 157s 2s/step - loss: 0.0216 - accuracy: 0.9922 - val_loss: 0.0786 - val_accuracy: 0.9702\n",
      "Epoch 6/10\n",
      "100/100 [==============================] - 140s 1s/step - loss: 0.0076 - accuracy: 0.9990 - val_loss: 0.0721 - val_accuracy: 0.9752\n",
      "Epoch 7/10\n",
      "100/100 [==============================] - 143s 1s/step - loss: 0.0057 - accuracy: 0.9998 - val_loss: 0.0729 - val_accuracy: 0.9727\n",
      "Epoch 8/10\n",
      "100/100 [==============================] - 138s 1s/step - loss: 0.0037 - accuracy: 0.9996 - val_loss: 0.0683 - val_accuracy: 0.9744\n",
      "Epoch 9/10\n",
      "100/100 [==============================] - 140s 1s/step - loss: 0.0024 - accuracy: 1.0000 - val_loss: 0.0780 - val_accuracy: 0.9711\n",
      "Epoch 10/10\n",
      " 90/100 [==========================>...] - ETA: 10s - loss: 0.0018 - accuracy: 0.9999WARNING:tensorflow:Your input ran out of data; interrupting training. Make sure that your dataset or generator can generate at least `steps_per_epoch * epochs` batches (in this case, 1000 batches). You may need to use the repeat() function when building your dataset.\n",
      "100/100 [==============================] - 126s 1s/step - loss: 0.0018 - accuracy: 0.9999 - val_loss: 0.0824 - val_accuracy: 0.9711\n"
     ]
    }
   ],
   "source": [
    "his=model.fit(train_x, train_y, validation_split=0.2,  steps_per_epoch=100, epochs=10)"
   ]
  },
  {
   "cell_type": "code",
   "execution_count": 62,
   "metadata": {},
   "outputs": [
    {
     "name": "stdout",
     "output_type": "stream",
     "text": [
      "48/48 [==============================] - 37s 773ms/step - loss: 0.0850 - accuracy: 0.9768\n",
      "[0.08499634265899658, 0.9768365025520325]\n",
      "[[717  17]\n",
      " [ 18 759]]\n"
     ]
    }
   ],
   "source": [
    "pred = model.predict(test_x)\n",
    "print(model.evaluate(test_x , test_y))\n",
    "print(confusion_matrix(np.argmax(pred,axis=1) , np.argmax(test_y , axis=1)))"
   ]
  },
  {
   "cell_type": "code",
   "execution_count": 63,
   "metadata": {
    "scrolled": true
   },
   "outputs": [
    {
     "data": {
      "text/plain": [
       "<matplotlib.legend.Legend at 0x2380be6a0d0>"
      ]
     },
     "execution_count": 63,
     "metadata": {},
     "output_type": "execute_result"
    },
    {
     "data": {
      "image/png": "[encoded data removed]",
      "text/plain": [
       "<Figure size 432x288 with 1 Axes>"
      ]
     },
     "metadata": {
      "needs_background": "light"
     },
     "output_type": "display_data"
    }
   ],
   "source": [
    "df = pd.DataFrame(his.history)\n",
    "plt.plot(df.loss, color = \"b\" , marker =\"*\" , label = \"Loss\")\n",
    "plt.plot(df.val_loss , color = \"r\" , marker =\"*\"  , label =\"Validation-Loss\")\n",
    "plt.title(\"validation Loss vs Actual Loss\")\n",
    "plt.xlabel(\"epooch\")\n",
    "plt.ylabel(\"loss\")\n",
    "plt.legend()"
   ]
  },
  {
   "cell_type": "markdown",
   "metadata": {},
   "source": [
    "### Final Model with Transfer learning - 2 epooches so that we could prevent over fitting\n"
   ]
  },
  {
   "cell_type": "code",
   "execution_count": 51,
   "metadata": {},
   "outputs": [],
   "source": [
    "pretrained_model = tf.keras.applications.DenseNet121(input_shape=(100,100,3),include_top=False,weights='imagenet',pooling='avg')\n",
    "pretrained_model.trainable = False\n",
    "\n",
    "\n",
    "inputs_densenet  = pretrained_model.input\n",
    "fc_l  = tf.keras.layers.Dense(128, activation='relu')(pretrained_model.output)\n",
    "op_l = tf.keras.layers.Dense(2, activation='softmax')(fc_l)\n",
    "model = tf.keras.Model(inputs=inputs_densenet , outputs=op_l)\n",
    "model.compile(loss = 'categorical_crossentropy', optimizer='adam', metrics=['accuracy'])"
   ]
  },
  {
   "cell_type": "code",
   "execution_count": 53,
   "metadata": {},
   "outputs": [
    {
     "name": "stdout",
     "output_type": "stream",
     "text": [
      "Epoch 1/3\n",
      "100/100 [==============================] - 190s 2s/step - loss: 0.2597 - accuracy: 0.9038\n",
      "Epoch 2/3\n",
      "100/100 [==============================] - 188s 2s/step - loss: 0.0493 - accuracy: 0.9812\n",
      "Epoch 3/3\n",
      "100/100 [==============================] - 194s 2s/step - loss: 0.0439 - accuracy: 0.9828\n"
     ]
    }
   ],
   "source": [
    "his=model.fit(x, y,  steps_per_epoch=100, epochs=3)"
   ]
  },
  {
   "cell_type": "code",
   "execution_count": 54,
   "metadata": {},
   "outputs": [],
   "source": [
    "model.save(\"my_h5_model.h5\")\n"
   ]
  },
  {
   "cell_type": "markdown",
   "metadata": {},
   "source": [
    "### Saving the model for futher use "
   ]
  },
  {
   "cell_type": "code",
   "execution_count": null,
   "metadata": {},
   "outputs": [],
   "source": []
  },
  {
   "cell_type": "code",
   "execution_count": null,
   "metadata": {},
   "outputs": [],
   "source": []
  },
  {
   "cell_type": "code",
   "execution_count": null,
   "metadata": {},
   "outputs": [],
   "source": [
    "\n",
    "\n",
    "    "
   ]
  },
  {
   "cell_type": "code",
   "execution_count": null,
   "metadata": {},
   "outputs": [],
   "source": []
  },
  {
   "cell_type": "code",
   "execution_count": 73,
   "metadata": {},
   "outputs": [],
   "source": []
  },
  {
   "cell_type": "code",
   "execution_count": 79,
   "metadata": {
    "scrolled": true
   },
   "outputs": [],
   "source": []
  },
  {
   "cell_type": "code",
   "execution_count": null,
   "metadata": {},
   "outputs": [],
   "source": []
  },
  {
   "cell_type": "code",
   "execution_count": null,
   "metadata": {},
   "outputs": [],
   "source": []
  }
 ],
 "metadata": {
  "kernelspec": {
   "display_name": "Python 3",
   "language": "python",
   "name": "python3"
  },
  "language_info": {
   "codemirror_mode": {
    "name": "ipython",
    "version": 3
   },
   "file_extension": ".py",
   "mimetype": "text/x-python",
   "name": "python",
   "nbconvert_exporter": "python",
   "pygments_lexer": "ipython3",
   "version": "3.8.5"
  },
  "latex_envs": {
   "LaTeX_envs_menu_present": true,
   "autoclose": false,
   "autocomplete": true,
   "bibliofile": "biblio.bib",
   "cite_by": "apalike",
   "current_citInitial": 1,
   "eqLabelWithNumbers": true,
   "eqNumInitial": 1,
   "hotkeys": {
    "equation": "Ctrl-E",
    "itemize": "Ctrl-I"
   },
   "labels_anchors": false,
   "latex_user_defs": false,
   "report_style_numbering": false,
   "user_envs_cfg": false
  },
  "varInspector": {
   "cols": {
    "lenName": 16,
    "lenType": 16,
    "lenVar": 40
   },
   "kernels_config": {
    "python": {
     "delete_cmd_postfix": "",
     "delete_cmd_prefix": "del ",
     "library": "var_list.py",
     "varRefreshCmd": "print(var_dic_list())"
    },
    "r": {
     "delete_cmd_postfix": ") ",
     "delete_cmd_prefix": "rm(",
     "library": "var_list.r",
     "varRefreshCmd": "cat(var_dic_list()) "
    }
   },
   "position": {
    "height": "869px",
    "left": "1550px",
    "right": "20px",
    "top": "120px",
    "width": "350px"
   },
   "types_to_exclude": [
    "module",
    "function",
    "builtin_function_or_method",
    "instance",
    "_Feature"
   ],
   "window_display": false
  }
 },
 "nbformat": 4,
 "nbformat_minor": 4
}
